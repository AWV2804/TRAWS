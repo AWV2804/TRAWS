{
 "cells": [
  {
   "cell_type": "code",
   "execution_count": 5,
   "id": "4a9d9412",
   "metadata": {},
   "outputs": [],
   "source": [
    "import requests"
   ]
  },
  {
   "cell_type": "code",
   "execution_count": 75,
   "id": "3d4bccde",
   "metadata": {},
   "outputs": [],
   "source": [
    "def get_dew():\n",
    "    dew_response = requests.get(\"https://api.weather.gov/gridpoints/IND/29,96\")\n",
    "    dew_base = str(dew_response.content)\n",
    "    dew_simple = dew_base.replace('}', '')\n",
    "    dew_simple = dew_simple.replace('\\\\n', '')\n",
    "    dew_simple = dew_simple.replace(':', '')\n",
    "    dew_simple = dew_simple.replace(' ', '')\n",
    "    dew_simple = dew_simple.replace(',{', '')\n",
    "    mod_dew = dew_simple.split('\"')\n",
    "    mod_loc = mod_dew.index('dewpoint')\n",
    "    dew_con = mod_dew[mod_loc+13]\n",
    "    return dew_con"
   ]
  },
  {
   "cell_type": "code",
   "execution_count": 76,
   "id": "029c83a6",
   "metadata": {},
   "outputs": [
    {
     "data": {
      "text/plain": [
       "'16.666666666666668'"
      ]
     },
     "execution_count": 76,
     "metadata": {},
     "output_type": "execute_result"
    }
   ],
   "source": [
    "get_dew()"
   ]
  },
  {
   "cell_type": "code",
   "execution_count": null,
   "id": "50861ce2",
   "metadata": {},
   "outputs": [],
   "source": []
  }
 ],
 "metadata": {
  "kernelspec": {
   "display_name": "Python 3 (ipykernel)",
   "language": "python",
   "name": "python3"
  },
  "language_info": {
   "codemirror_mode": {
    "name": "ipython",
    "version": 3
   },
   "file_extension": ".py",
   "mimetype": "text/x-python",
   "name": "python",
   "nbconvert_exporter": "python",
   "pygments_lexer": "ipython3",
   "version": "3.9.7"
  }
 },
 "nbformat": 4,
 "nbformat_minor": 5
}
